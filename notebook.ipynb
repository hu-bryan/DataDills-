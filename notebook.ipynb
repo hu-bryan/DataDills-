{
 "cells": [
  {
   "cell_type": "code",
   "execution_count": 4,
   "id": "cebd26ca",
   "metadata": {},
   "outputs": [],
   "source": [
    "import torch\n",
    "from torchvision import datasets \n",
    "from torchvision.transforms import v2\n",
    "\n",
    "data_path = 'temp_data_path'\n",
    "\n"
   ]
  },
  {
   "cell_type": "code",
   "execution_count": null,
   "id": "5d1a197c",
   "metadata": {},
   "outputs": [],
   "source": [
    "channel = 1\n",
    "im_size = (28, 28)\n",
    "num_classes = 10\n",
    "mean = [0.2861]\n",
    "std = [0.3530]\n",
    "transform = v2.Compose([v2.ToImage(), v2.ToDtype(torch.float32, scale=True), v2.Normalize(mean=mean, std=std)])\n",
    "dst_train = datasets.FashionMNIST(data_path, train=True, download=True, transform=transform) \n",
    "dst_test = datasets.FashionMNIST(data_path, train=False, download=True, transform=transform)\n",
    "class_names = dst_train.classes"
   ]
  },
  {
   "cell_type": "code",
   "execution_count": null,
   "id": "eb3c41c1",
   "metadata": {},
   "outputs": [],
   "source": [
    "labels = dst_train.targets\n",
    "indices_per_class = [(labels == c).nonzero(as_tuple=True)[0] for c in range(num_classes)]"
   ]
  },
  {
   "cell_type": "code",
   "execution_count": null,
   "id": "907aadab",
   "metadata": {},
   "outputs": [],
   "source": [
    "# load full train images\n",
    "# load test images\n",
    "# initiliaze synth images using the dist_method's syth image initializer \n",
    "# initilize random parameter for model based on model parameter init method\n",
    "# train an OPT model uding full training images\n",
    "\n",
    "# for training iterations \n",
    "  # sample batch of train images \n",
    "    # perform one update to synth image \n",
    "  # if iteration is an evaluation iteration\n",
    "    # train a model (same init parameter) using the synth data \n",
    "    # test the model on test data \n",
    "    # record accruacy/loss info \n",
    "  \n"
   ]
  }
 ],
 "metadata": {
  "kernelspec": {
   "display_name": "ez_pytorch_env",
   "language": "python",
   "name": "python3"
  },
  "language_info": {
   "codemirror_mode": {
    "name": "ipython",
    "version": 3
   },
   "file_extension": ".py",
   "mimetype": "text/x-python",
   "name": "python",
   "nbconvert_exporter": "python",
   "pygments_lexer": "ipython3",
   "version": "3.11.13"
  }
 },
 "nbformat": 4,
 "nbformat_minor": 5
}
